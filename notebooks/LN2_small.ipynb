{
 "cells": [
  {
   "cell_type": "markdown",
   "metadata": {},
   "source": [
    "#### Case 2: Isobaric evaporation of liquid nitrogen in a 6.75 L vertically orientated cylindrical tank experiments.\n",
    "\n",
    "This notebook sets up the isobaric evaporation of liquid nitrogen ($LN_2$) in a 6.75 L storage tank. A low liquid filling, low heat ingress scenario from Seo and Jeong (2009) is considered. This tank is representative of lab-scale tanks used for cryogen evaporation experiments that measure boil-off rates and thermal stratification."
   ]
  },
  {
   "cell_type": "code",
   "execution_count": null,
   "metadata": {},
   "outputs": [],
   "source": [
    "# Ensure that python finds the submodules\n",
    "import sys\n",
    "sys.path.append(\"..\") # Adds higher directory to python modules path.\n",
    "\n",
    "# Scientific computing\n",
    "import numpy as np\n",
    "\n",
    "# Visualisation\n",
    "import matplotlib.pyplot as plt\n",
    "\n",
    "## Module imports\n",
    "# Import the storage tank Class\n",
    "from cryoevap.storage_tanks import Tank\n",
    "\n",
    "# Import Cryogen class\n",
    "from cryoevap.cryogens import Cryogen"
   ]
  },
  {
   "cell_type": "markdown",
   "metadata": {},
   "source": [
    "#### Setup tank and cryogen properties"
   ]
  },
  {
   "cell_type": "code",
   "execution_count": null,
   "metadata": {},
   "outputs": [],
   "source": [
    "# LNG tank properties\n",
    "Q_roof = 0 # Roof heat ingress / W\n",
    "d_i = 0.201 # Internal diameter / m\n",
    "d_o = 0.204   # External diameter / m\n",
    "T_air = 298.15 # Temperature of the environment K\n",
    "\n",
    "# Set overall heat transfer coefficient through the walls for liquid and vapour\n",
    "U_L = 0.026 # W/m2/K\n",
    "U_V = 0.026 # W/m2/K\n",
    "\n",
    "# Specify heat transfer rate at the bottom to prevent ground heating\n",
    "Q_b = 0 # W, \n",
    "\n",
    "# Vertically orientated cylindrical tank volume\n",
    "V_tank = 6.75e-3 #m^3\n",
    "\n",
    "# Initial liquid filling / Dimensionless\n",
    "LF = 0.278 \n",
    "\n",
    "# Specify tank operating pressure\n",
    "P = 100000 # Pa\n",
    "\n",
    "# Initialize large-scale tank\n",
    "small_tank = Tank(d_i, d_o, V_tank, LF)\n",
    "small_tank.set_HeatTransProps(U_L, U_V, T_air, Q_roof, Q_b, eta_w = 0.963)\n",
    "\n",
    "# Initialise cryogen\n",
    "nitrogen = Cryogen(name = \"nitrogen\")\n",
    "nitrogen.set_coolprops(P)\n",
    "\n",
    "# Set cryogen\n",
    "small_tank.cryogen = nitrogen\n",
    "\n",
    "# Calculate initial evaporation rate\n",
    "print(\"The initial evaporation rate of \" + nitrogen.name + \" is %.1e kg/h\" % (small_tank.b_l_dot * 3600))"
   ]
  },
  {
   "cell_type": "markdown",
   "metadata": {},
   "source": [
    "Calculate initial evaporation rate and transient period"
   ]
  },
  {
   "cell_type": "code",
   "execution_count": null,
   "metadata": {},
   "outputs": [],
   "source": [
    "# Calculate initial evaporation rate\n",
    "print(\"The initial evaporation rate of \" + nitrogen.name + \" is %.1e kg/h\" % (small_tank.b_l_dot * 3600))\n",
    "\n",
    "# Estimate transient period duration\n",
    "print(\"Transient period = %.3f s \" % small_tank.tau)\n",
    "\n",
    "# Minimum number of hours to achieve steady state \n",
    "tau_h = (np.floor(small_tank.tau / 3600) + 1)\n",
    "\n",
    "# Print simulation time of the transient period for short-term storage\n",
    "print(\"Simulation time: %.0i h\" % tau_h )\n",
    "\n",
    "# Calculate boil-off rate\n",
    "BOR = (small_tank.b_l_dot * 24 * 3600) / (small_tank.V * small_tank.LF * small_tank.cryogen.rho_L)\n",
    "print(\"BOR = %.3f %%\" % (BOR * 100))"
   ]
  },
  {
   "cell_type": "markdown",
   "metadata": {},
   "source": [
    "#### Simulation setup and execution"
   ]
  },
  {
   "cell_type": "code",
   "execution_count": null,
   "metadata": {},
   "outputs": [],
   "source": [
    "# Define vertical spacing\n",
    "dz = 0.01\n",
    "\n",
    "# Calculate number of nodes\n",
    "n_z = 1 + int(np.round(small_tank.l_V/dz, 0))\n",
    "\n",
    "# Define dimensionless computational grid\n",
    "small_tank.z_grid = np.linspace(0, 1, n_z)\n",
    "\n",
    "# Insulated roof\n",
    "small_tank.U_roof = 0\n",
    "\n",
    "# Define evaporation time as twice as the transient period\n",
    "evap_time = 3600 *tau_h * 2\n",
    "\n",
    "# Time step to record data, relevant for plotting integrated quantities\n",
    "# such as the vapour to liquid heat transfer rate, Q_VL\n",
    "small_tank.time_interval = 60\n",
    "\n",
    "# Time step to plot each vapour temperature profile\n",
    "small_tank.plot_interval = evap_time/6\n",
    "\n",
    "# Simulate the evaporation\n",
    "small_tank.evaporate(evap_time)"
   ]
  },
  {
   "cell_type": "markdown",
   "metadata": {},
   "source": [
    "#### Visualisation of results"
   ]
  },
  {
   "cell_type": "markdown",
   "metadata": {},
   "source": [
    "#### Vapour temperature"
   ]
  },
  {
   "cell_type": "code",
   "execution_count": null,
   "metadata": {},
   "outputs": [],
   "source": [
    "# Visualise the plot\n",
    "small_tank.plot_tv()"
   ]
  },
  {
   "cell_type": "markdown",
   "metadata": {},
   "source": [
    "Visualise liquid and vapour heat ingresses, $\\dot{Q}_{\\text{L}}$ and  $\\dot{Q}_{\\text{V}}$.\n",
    "\n",
    "The plot also shows the vapour to liquid heat ingress, $\\dot{Q}_{VL}$, and  the partition of the vapour heat ingress that is transferred to the interface by the wall directly, $\\dot{Q}_{\\text{V,w}}$"
   ]
  },
  {
   "cell_type": "code",
   "execution_count": null,
   "metadata": {},
   "outputs": [],
   "source": [
    "# Provide optional parameter unit to\n",
    "# accommodate the scale of the experiment\n",
    "small_tank.plot_Q(unit=\"W\")"
   ]
  },
  {
   "cell_type": "markdown",
   "metadata": {},
   "source": [
    "#### Plot liquid volume"
   ]
  },
  {
   "cell_type": "code",
   "execution_count": null,
   "metadata": {},
   "outputs": [],
   "source": [
    "# Provide optional parameter unit to\n",
    "# accommodate the scale of the experiment\n",
    "small_tank.plot_V_L(unit=\"L\")"
   ]
  },
  {
   "cell_type": "code",
   "execution_count": null,
   "metadata": {},
   "outputs": [],
   "source": [
    "# Provide optional parameter unit to\n",
    "# accommodate the scale of the experiment\n",
    "small_tank.plot_BOG(unit='g/h')"
   ]
  },
  {
   "cell_type": "markdown",
   "metadata": {},
   "source": [
    "Optional: CSV data export\n",
    "\n",
    "If evaporation data is intended to be post-processed in another software, it can be exported readily with the help of the Pandas package."
   ]
  },
  {
   "cell_type": "code",
   "execution_count": null,
   "metadata": {},
   "outputs": [],
   "source": [
    "# Import pandas \n",
    "import pandas as pd"
   ]
  },
  {
   "cell_type": "code",
   "execution_count": null,
   "metadata": {},
   "outputs": [],
   "source": [
    "# Create dataframe from dictionary\n",
    "df_evap = pd.DataFrame.from_dict(small_tank.data)\n",
    "\n",
    "# Save file to the current working directory\n",
    "df_evap.to_csv('LN2_small_m3.csv')\n",
    "\n",
    "# Show the first five columns of the dataframe in console\n",
    "df_evap.head()"
   ]
  },
  {
   "cell_type": "markdown",
   "metadata": {},
   "source": [
    "#### References\n",
    "\n"
   ]
  },
  {
   "cell_type": "markdown",
   "metadata": {},
   "source": [
    "\n",
    "M. Seo, S. Jeong, Analysis of self-pressurization phenomenon of cryogenic fluid storage tank with thermal diffusion model, Cryogenics, 50(9) (2010) 549-555."
   ]
  }
 ],
 "metadata": {
  "@webio": {
   "lastCommId": null,
   "lastKernelId": null
  },
  "kernelspec": {
   "display_name": "Python 3 (ipykernel)",
   "language": "python",
   "name": "python3"
  },
  "language_info": {
   "codemirror_mode": {
    "name": "ipython",
    "version": 3
   },
   "file_extension": ".py",
   "mimetype": "text/x-python",
   "name": "python",
   "nbconvert_exporter": "python",
   "pygments_lexer": "ipython3",
   "version": "3.10.4"
  }
 },
 "nbformat": 4,
 "nbformat_minor": 2
}
