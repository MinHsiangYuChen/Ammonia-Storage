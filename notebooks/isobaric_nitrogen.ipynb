{
 "cells": [
  {
   "cell_type": "markdown",
   "metadata": {},
   "source": [
    "#### Isobaric nitrogen\n",
    "\n",
    "* This notebook sets up the isobaric evaporation of liquid nitrogen in a Linde 80m^3 tank to compare evaporation rates with the same case but with the tank closed\n",
    "* Coolprop will be called to retrieve the cryogen thermophysical properties. Hence, the cryogen will be specificied in the notebook\n",
    "\n",
    "## Desired input and output\n",
    "* Tank characteristics: .CSV file with tank geometrical properties\n",
    "* Cryogen: .CSV file with the cryogen ID consistent with coolprop\n",
    "* Popular cryogens: hydrogen, methane, nitrogen, oxygen.\n"
   ]
  },
  {
   "cell_type": "code",
   "execution_count": 1,
   "metadata": {},
   "outputs": [],
   "source": [
    "# Ensure that python finds the submodules\n",
    "import sys\n",
    "sys.path.append(\"..\") # Adds higher directory to python modules path.\n",
    "\n",
    "# Scientific computing\n",
    "import numpy as np\n",
    "\n",
    "# Visualisation\n",
    "import matplotlib.pyplot as plt\n",
    "\n",
    "## Module imports\n",
    "# Import the storage tank Class\n",
    "from cryoevap.storage_tanks import Tank\n",
    "\n",
    "# Import Cryogen class\n",
    "from cryoevap.cryogens import Cryogen\n",
    "# from cryoevap.cryogens import Cryogen"
   ]
  },
  {
   "cell_type": "markdown",
   "metadata": {},
   "source": [
    "#### Use example\n",
    "\n",
    "Analyse BOG rates of liquid hydrogen in a retrofitted LNG storage tank,and compare it to methane BOG rates"
   ]
  },
  {
   "cell_type": "code",
   "execution_count": 2,
   "metadata": {},
   "outputs": [],
   "source": [
    "# Retrofitted LNG tank properties\n",
    "Q_roof = 0 # Roof heat ingress / W\n",
    "d_i = 2.706 # Internal diameter / m\n",
    "d_o = 3   # External diameter / m\n",
    "T_air = 293.15 # Temperature of the environment K\n",
    "\n",
    "\n",
    "eta_w = 0.97\n",
    "# Set overall heat transfer coefficient through the walls for liquid and vapour\n",
    "U_L = 7.237e-3 # W/m2/K\n",
    "U_V = 7.237e-3 * (1-eta_w) # W/m2/K\n",
    "\n",
    "# Specify heat transfer rate at the bottom to prevent ground heating\n",
    "Q_b = 0 # W, no heat ingress from the tank bottom \n",
    "\n",
    "# Vertically orientated cylindrical tank volume\n",
    "V_tank = 80.36 #m^3\n",
    "\n",
    "# Initial liquid filling / Dimensionless\n",
    "LF = 0.95 \n",
    "\n",
    "# Specify tank operating pressure\n",
    "P = 101325 # Pa\n",
    "\n",
    "# Initialize tank\n",
    "large_tank = Tank(d_i, d_o, V_tank, LF)\n",
    "large_tank.set_HeatTransProps(U_L, U_V, T_air, Q_roof, Q_b)"
   ]
  },
  {
   "cell_type": "code",
   "execution_count": null,
   "metadata": {},
   "outputs": [],
   "source": [
    "nitrogen = Cryogen(name = \"nitrogen\")\n",
    "nitrogen.set_coolprops(\"nitrogen\", P)\n",
    "large_tank.cryogen = nitrogen\n",
    "print(\"The evaporation rate of \" + nitrogen.name + \" is %.1f kg/h\" % (large_tank.b_l_dot * 3600))\n",
    "\n",
    "print(\"Equivalent to %.1f g/s\" % (large_tank.b_l_dot * 1000))"
   ]
  },
  {
   "cell_type": "code",
   "execution_count": null,
   "metadata": {},
   "outputs": [],
   "source": [
    "# J / kg K\n",
    "nitrogen.cp_L\n",
    "\n",
    "# J / mol K\n",
    "cpL_molar = nitrogen.cp_L * nitrogen.MW\n",
    "\n",
    "print(cpL_molar)"
   ]
  },
  {
   "cell_type": "code",
   "execution_count": null,
   "metadata": {},
   "outputs": [],
   "source": [
    "dH_LV_molar = (nitrogen.h_V - nitrogen.h_L) * nitrogen.MW\n",
    "print(\"dH_LV_molar = %.3f J/mol\" % dH_LV_molar)\n"
   ]
  },
  {
   "cell_type": "markdown",
   "metadata": {},
   "source": [
    "Liquid nitrogen properties for Linde tank calculations"
   ]
  },
  {
   "cell_type": "markdown",
   "metadata": {},
   "source": [
    "#### Simulate liquid nitrogen evaporation "
   ]
  },
  {
   "cell_type": "code",
   "execution_count": null,
   "metadata": {},
   "outputs": [],
   "source": [
    "# large_tank.evaporate(3600*24*7*52)\n",
    "large_tank.z_grid = np.linspace(0, large_tank.l * (1-large_tank.LF), 40)\n",
    "# large_tank.U_roof = 0\n",
    "large_tank.evaporate(3600*24)"
   ]
  },
  {
   "cell_type": "markdown",
   "metadata": {},
   "source": [
    "Plot vapour temperature profile"
   ]
  },
  {
   "cell_type": "code",
   "execution_count": null,
   "metadata": {},
   "outputs": [],
   "source": [
    "z = (large_tank.l * (1-large_tank.LF))* large_tank.z_grid\n",
    "T_end = large_tank.sol.y[1:, -1]\n",
    "plt.plot(z, T_end)"
   ]
  },
  {
   "cell_type": "code",
   "execution_count": null,
   "metadata": {},
   "outputs": [],
   "source": [
    "# Access to the liquid volume\n",
    "V_L = large_tank.sol.y[0]\n",
    "plt.plot(large_tank.sol.t, V_L)\n",
    "plt.grid()\n",
    "plt.xlabel('Time / s')\n",
    "plt.ylabel('$ V_L / m^3$')"
   ]
  },
  {
   "cell_type": "code",
   "execution_count": null,
   "metadata": {},
   "outputs": [],
   "source": [
    "nitrogen.T_sat"
   ]
  },
  {
   "cell_type": "code",
   "execution_count": null,
   "metadata": {},
   "outputs": [],
   "source": [
    "# Calculate evaporated mass\n",
    "BOG_total = nitrogen.rho_L * (V_L[0] - V_L[-1])\n",
    "print(\"BOG = %.3f kg\" % BOG_total)"
   ]
  },
  {
   "cell_type": "code",
   "execution_count": null,
   "metadata": {},
   "outputs": [],
   "source": [
    "BOG_total  / nitrogen.MW"
   ]
  },
  {
   "cell_type": "code",
   "execution_count": null,
   "metadata": {},
   "outputs": [],
   "source": [
    "# Extract evaporation rate and convert to kg/h\n",
    "B_L = large_tank.evap_rate() * 3600\n",
    "\n",
    "# Visualise evaporation rate\n",
    "plt.plot(large_tank.sol.t, B_L) \n",
    "plt.grid()\n",
    "plt.title(\"Liquid hydrogen evaporation in a 165,000 m$^3$ tank\")\n",
    "plt.xlabel('Time / s')\n",
    "plt.ylabel('$ B_L / kg/h$')"
   ]
  }
 ],
 "metadata": {
  "kernelspec": {
   "display_name": "cryoenv",
   "language": "python",
   "name": "python3"
  },
  "language_info": {
   "codemirror_mode": {
    "name": "ipython",
    "version": 3
   },
   "file_extension": ".py",
   "mimetype": "text/x-python",
   "name": "python",
   "nbconvert_exporter": "python",
   "pygments_lexer": "ipython3",
   "version": "3.9.13"
  }
 },
 "nbformat": 4,
 "nbformat_minor": 2
}
