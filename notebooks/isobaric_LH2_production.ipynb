{
 "cells": [
  {
   "cell_type": "markdown",
   "metadata": {},
   "source": [
    "#### Isobaric_LH2\n",
    "\n",
    "* This notebook sets up the isobaric evaporation of liquid hydrogen in a retrofitted LNG storage tank\n",
    "* Coolprop will be called to retrieve the cryogen thermophysical properties. Hence, the cryogen will be specificied in the notebook\n",
    "\n",
    "## Desired input and output\n",
    "* Tank characteristics: .CSV file with tank geometrical properties\n",
    "* Cryogen: .CSV file with the cryogen ID consistent with coolprop\n",
    "* Popular cryogens: hydrogen, methane, nitrogen, oxygen.\n"
   ]
  },
  {
   "cell_type": "code",
   "execution_count": 1,
   "metadata": {},
   "outputs": [],
   "source": [
    "# Scientific computing\n",
    "import numpy as np\n",
    "\n",
    "# Visualisation\n",
    "import matplotlib.pyplot as plt\n",
    "\n",
    "## Module imports\n",
    "# Import the storage tank Class\n",
    "from cryoevap.storage_tanks import Tank\n",
    "\n",
    "# Import Cryogen class\n",
    "from cryoevap.cryogens import Cryogen"
   ]
  },
  {
   "cell_type": "markdown",
   "metadata": {},
   "source": [
    "#### Use example\n",
    "\n",
    "Analyse BOG rates of liquid hydrogen in a retrofitted LNG storage tank,and compare it to methane BOG rates"
   ]
  },
  {
   "cell_type": "code",
   "execution_count": null,
   "metadata": {},
   "outputs": [],
   "source": [
    "# Retrofitted LNG tank properties\n",
    "Q_roof = 0 # Roof heat ingress / W\n",
    "d_i = 76.4 # Internal diameter / m\n",
    "d_o = 80   # External diameter / m\n",
    "T_air = 293.15 # Temperature of the environment K\n",
    "\n",
    "# Set overall heat transfer coefficient through the walls for liquid and vapour\n",
    "U_L = 0.0371 # W/m2/K\n",
    "U_V = 0.0371 # W/m2/K\n",
    "\n",
    "# Specify heat transfer rate at the bottom to prevent ground heating\n",
    "Q_b = 60000 # W, \n",
    "\n",
    "# Vertically orientated cylindrical tank volume\n",
    "V_tank = 165000 #m^3\n",
    "\n",
    "# Initial liquid filling / Dimensionless\n",
    "LF = 0.97 \n",
    "\n",
    "# Specify tank operating pressure\n",
    "P = 100000 # Pa\n",
    "\n",
    "# Initialize tank\n",
    "large_tank = Tank(d_i, d_o, V_tank, LF)\n",
    "large_tank.set_HeatTransProps(U_L, U_V, T_air, Q_roof, Q_b)"
   ]
  },
  {
   "cell_type": "code",
   "execution_count": null,
   "metadata": {},
   "outputs": [],
   "source": [
    "methane = Cryogen(name = \"methane\")\n",
    "methane.set_coolprops(\"methane\", P)\n",
    "large_tank.cryogen = methane\n",
    "print(\"The evaporation rate of \" + methane.name + \" is %.1f kg/h\" % (large_tank.b_l_dot * 3600))\n",
    "\n",
    "# Initialise hydrogen using CoolProp dependency\n",
    "hydrogen = Cryogen(name=\"hydrogen\")\n",
    "# Initialise thermodynamic properties at the tank operating pressure\n",
    "hydrogen.set_coolprops(hydrogen.name, P)\n",
    "large_tank.cryogen = hydrogen\n",
    "\n",
    "# Evaporation rate\n",
    "print(\"The evaporation rate of \" + hydrogen.name + \" in the tank is %.1f kg/h\" % (large_tank.b_l_dot * 3600))\n",
    "print(\"Equivalent to %.1f g/s\" % (large_tank.b_l_dot * 1000))"
   ]
  },
  {
   "cell_type": "markdown",
   "metadata": {},
   "source": [
    "Liquid nitrogen properties for Linde tank calculations"
   ]
  },
  {
   "cell_type": "markdown",
   "metadata": {},
   "source": [
    "#### Simulate liquid hydrogen evaporation "
   ]
  },
  {
   "cell_type": "code",
   "execution_count": null,
   "metadata": {},
   "outputs": [],
   "source": [
    "# large_tank.evaporate(3600*24*7*52)\n",
    "large_tank.z_grid = np.linspace(0, 1, 40)\n",
    "large_tank.U_roof = 0\n",
    "\n",
    "# Time step to record data, relevant for\n",
    "# plotting integrated quantities such as\n",
    "# the vapour to liquid heat transfer rate, Q_VL\n",
    "large_tank.time_interval = 60\n",
    "\n",
    "# Time step to plot each vapour temperature profile\n",
    "large_tank.plot_interval = 3600*6\n",
    "large_tank.evaporate(3600*24)"
   ]
  },
  {
   "cell_type": "markdown",
   "metadata": {},
   "source": [
    "Plot vapour temperature profile"
   ]
  },
  {
   "cell_type": "code",
   "execution_count": null,
   "metadata": {},
   "outputs": [],
   "source": [
    "# Number of temperature profiles to visualise\n",
    "n_plots = int(large_tank.sol.t[-1] / large_tank.plot_interval)\n",
    "\n",
    "# Step to move in the index\n",
    "plot_step = int(large_tank.plot_interval / large_tank.time_interval)"
   ]
  },
  {
   "cell_type": "code",
   "execution_count": null,
   "metadata": {},
   "outputs": [],
   "source": [
    "# Create a colormap\n",
    "cmap = plt.get_cmap('cividis')\n",
    "\n",
    "# Normalize the colormap based on the time range\n",
    "norm = plt.Normalize(vmin=large_tank.sol.t[1], vmax=large_tank.sol.t[-1])\n",
    "\n",
    "# Create a figure and axis\n",
    "fig, ax = plt.subplots()\n",
    "\n",
    "# Loop over each time step to  p\n",
    "for i in range(1, n_plots+1):\n",
    "\n",
    "    # Get the temperature at this time step\n",
    "    T_v = large_tank.sol.y[1:, i*plot_step]\n",
    "    \n",
    "    # Plot the temperature profile at this time step, with color indicating the time\n",
    "    ax.plot(T_v, large_tank.z_grid, color=cmap(norm(large_tank.sol.t[i * plot_step])))\n",
    "\n",
    "    # Add a text box with the time value at the right of the plot\n",
    "    ax.text(1.02, ((i-1 + 0.15)*plot_step) / len(large_tank.sol.t), f't={large_tank.sol.t[i*plot_step]:.0f} s', transform=ax.transAxes, \n",
    "            verticalalignment='center', bbox=dict(boxstyle='round,pad=0.5', edgecolor='none', facecolor=cmap(norm(large_tank.sol.t[i*plot_step])), alpha=0.6))\n",
    "\n",
    "# Add a grid\n",
    "ax.grid(True)\n",
    "\n",
    "# Add labels\n",
    "ax.set_ylabel(r'Dimensionless length $\\zeta = z/l_V$')\n",
    "ax.set_xlabel('Temperature / K')\n",
    "\n",
    "# Add a title\n",
    "ax.set_title('Vapour temperature profiles at different times')\n",
    "\n",
    "# Show the plot\n",
    "plt.show()"
   ]
  },
  {
   "cell_type": "code",
   "execution_count": null,
   "metadata": {},
   "outputs": [],
   "source": [
    "# Reconstruct Q_VL\n",
    "Q_VL = []\n",
    "for i in range(1, len(large_tank.sol.t)):\n",
    "    # Get the temperature at this time step\n",
    "    T_v = large_tank.sol.y[1:, i]\n",
    "    Q_VL.append(large_tank.Q_VL(T_v))\n",
    "\n",
    "Q_VL = np.array(Q_VL)\n",
    "\n",
    "# Reconstruct Q_L_in\n",
    "\n",
    "l_L = large_tank.sol.y[0] / large_tank.A_T\n",
    "delta_T = (large_tank.T_air - large_tank.cryogen.T_sat)\n",
    "Q_L = large_tank.U_L * (np.pi * large_tank.d_o * l_L) * delta_T\n",
    "Q_V = large_tank.U_V * (np.pi * large_tank.d_o * (large_tank.l - l_L)) * delta_T\n",
    "\n",
    "fig, ax = plt.subplots(1, 3, figsize = [9,3])\n",
    "\n",
    "# Create space to breathe\n",
    "plt.subplots_adjust(wspace=0.5)\n",
    "\n",
    "# Q_VL plot\n",
    "ax[0].plot(large_tank.sol.t[1:], (Q_VL/1e3), label=\"Q_VL\")\n",
    "ax[0].set_ylabel(\"$\\dot{Q}_{VL} / kW $\")\n",
    "ax[0].set_xlabel(\"Time / s\")\n",
    "\n",
    "# Q_L_in plot\n",
    "ax[1].plot(large_tank.sol.t, (Q_L/1e3))\n",
    "ax[1].set_ylabel(\"$\\dot{Q}_{L,in} / kW $\")\n",
    "ax[1].set_xlabel(\"Time / s\")\n",
    "\n",
    "ax[2].plot(large_tank.sol.t, (Q_V/1e3))\n",
    "ax[1].set_ylabel(\"$\\dot{Q}_{V,in} / kW $\")\n",
    "ax[2].set_xlabel(\"Time / s\")\n",
    "\n",
    "ax[1].set_title(\"Heat ingresses\")\n",
    "\n",
    "[axis.grid() for axis in ax]\n",
    "plt.show()"
   ]
  },
  {
   "cell_type": "code",
   "execution_count": null,
   "metadata": {},
   "outputs": [],
   "source": [
    "# Access to the liquid volume\n",
    "plt.plot(large_tank.sol.t, large_tank.sol.y[0])\n",
    "plt.grid()\n",
    "plt.xlabel('Time / s')\n",
    "plt.ylabel('$ V_L / m^3$')"
   ]
  },
  {
   "cell_type": "code",
   "execution_count": null,
   "metadata": {},
   "outputs": [],
   "source": [
    "# Extract evaporation rate and convert to kg/h\n",
    "B_L = large_tank.evap_rate() * 3600\n",
    "\n",
    "# Visualise evaporation rate\n",
    "plt.plot(large_tank.sol.t, B_L) \n",
    "plt.grid()\n",
    "plt.title(\"Liquid hydrogen evaporation in a 165,000 m$^3$ tank\")\n",
    "plt.xlabel('Time / s')\n",
    "plt.ylabel('$ \\dot{B}_L / kg/h$')"
   ]
  }
 ],
 "metadata": {
  "kernelspec": {
   "display_name": "cryoenv",
   "language": "python",
   "name": "python3"
  },
  "language_info": {
   "codemirror_mode": {
    "name": "ipython",
    "version": 3
   },
   "file_extension": ".py",
   "mimetype": "text/x-python",
   "name": "python",
   "nbconvert_exporter": "python",
   "pygments_lexer": "ipython3",
   "version": "3.9.13"
  }
 },
 "nbformat": 4,
 "nbformat_minor": 2
}
