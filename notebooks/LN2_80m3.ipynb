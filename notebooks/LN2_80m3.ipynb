{
 "cells": [
  {
   "cell_type": "markdown",
   "metadata": {},
   "source": [
    "#### Isobaric nitrogen\n",
    "\n",
    "* This notebook sets up the isobaric evaporation of liquid nitrogen in a Linde $80m^3$ tank to compare evaporation rates with the same case but with the tank closed\n",
    "* Coolprop will be called to retrieve the cryogen thermophysical properties. Hence, the cryogen will be specificied in the notebook\n",
    "\n",
    "## Desired input and output\n",
    "* Tank characteristics: .CSV file with tank geometrical properties\n",
    "* Cryogen: .CSV file with the cryogen ID consistent with coolprop\n",
    "* Popular cryogens: hydrogen, methane, nitrogen, oxygen.\n"
   ]
  },
  {
   "cell_type": "code",
   "execution_count": null,
   "metadata": {},
   "outputs": [],
   "source": [
    "# Ensure that python finds the submodules\n",
    "import sys\n",
    "sys.path.append(\"..\") # Adds higher directory to python modules path.\n",
    "\n",
    "# Scientific computing\n",
    "import numpy as np\n",
    "\n",
    "# Visualisation\n",
    "import matplotlib.pyplot as plt\n",
    "\n",
    "## Module imports\n",
    "# Import the storage tank Class\n",
    "from cryoevap.storage_tanks import Tank\n",
    "\n",
    "# Import Cryogen class\n",
    "from cryoevap.cryogens import Cryogen\n",
    "# from cryoevap.cryogens import Cryogen"
   ]
  },
  {
   "cell_type": "markdown",
   "metadata": {},
   "source": [
    "#### Use example\n",
    "\n",
    "Analyse BOG rates of liquid hydrogen in a retrofitted LNG storage tank,and compare it to methane BOG rates. In this case, it is assumed that all the heat ingress is transferred to the vapour ($\\eta_w = 0$)."
   ]
  },
  {
   "cell_type": "code",
   "execution_count": null,
   "metadata": {},
   "outputs": [],
   "source": [
    "# Retrofitted LNG tank properties\n",
    "Q_roof = 0 # Roof heat ingress / W\n",
    "d_i = 2.706 # Internal diameter / m\n",
    "d_o = 3   # External diameter / m\n",
    "T_air = 298.15 # Temperature of the environment K\n",
    "\n",
    "# Set overall heat transfer coefficient through the walls for liquid and vapour\n",
    "U_L = 7.237e-3 # W/m2/K\n",
    "U_V = 7.237e-3 # W/m2/K\n",
    "\n",
    "# Specify heat transfer rate at the bottom to prevent ground heating\n",
    "Q_b = 0 # W, no heat ingress from the tank bottom \n",
    "\n",
    "# Vertically orientated cylindrical tank volume\n",
    "V_tank = 80.36 #m^3\n",
    "\n",
    "# Initial liquid filling / Dimensionless\n",
    "LF = 0.97 \n",
    "\n",
    "# Specify tank operating pressure\n",
    "P = 100000 # Pa\n",
    "\n",
    "# Initialize tank\n",
    "large_tank = Tank(d_i, d_o, V_tank, LF)\n",
    "large_tank.set_HeatTransProps(U_L, U_V, T_air, Q_roof, Q_b, eta_w = 0.91)"
   ]
  },
  {
   "cell_type": "code",
   "execution_count": null,
   "metadata": {},
   "outputs": [],
   "source": [
    "# Initialise cryogen\n",
    "nitrogen = Cryogen(name = \"nitrogen\")\n",
    "nitrogen.set_coolprops(P)\n",
    "large_tank.cryogen = nitrogen\n",
    "print(\"The evaporation rate of \" + nitrogen.name + \" is %.1f kg/h\" % (large_tank.b_l_dot * 3600))\n",
    "print(\"Equivalent to %.1f g/s\" % (large_tank.b_l_dot * 1000))"
   ]
  },
  {
   "cell_type": "markdown",
   "metadata": {},
   "source": [
    "Liquid nitrogen properties for Linde tank calculations"
   ]
  },
  {
   "cell_type": "code",
   "execution_count": null,
   "metadata": {},
   "outputs": [],
   "source": [
    "# Calculate initial evaporation rate\n",
    "print(\"The initial evaporation rate of \" + nitrogen.name + \" is %.1e kg/h\" % (large_tank.b_l_dot * 3600))\n",
    "\n",
    "# Estimate transient period duration\n",
    "print(\"Transient period = %.3f s \" % large_tank.tau)\n",
    "\n",
    "# Minimum number of hours to achieve steady state \n",
    "tau_h = (np.floor(large_tank.tau / 3600) + 1)\n",
    "\n",
    "# Print simulation time of the transient period for short-term storage\n",
    "print(\"Simulation time: %.0i h\" % tau_h )\n",
    "\n",
    "# Calculate boil-off rate\n",
    "BOR = (large_tank.b_l_dot * 24 * 3600) / (large_tank.V * large_tank.LF * large_tank.cryogen.rho_L)\n",
    "print(\"BOR = %.3f %%\" % (BOR * 100))"
   ]
  },
  {
   "cell_type": "markdown",
   "metadata": {},
   "source": [
    "#### Simulation setup and execution"
   ]
  },
  {
   "cell_type": "code",
   "execution_count": null,
   "metadata": {},
   "outputs": [],
   "source": [
    "# Define vertical spacing\n",
    "dz = 0.005\n",
    "\n",
    "# Calculate number of nodes\n",
    "n_z = 1 + int(np.round(large_tank.l_V/dz, 0))\n",
    "\n",
    "# Define dimensionless computational grid\n",
    "large_tank.z_grid = np.linspace(0, 1, n_z)\n",
    "\n",
    "# Insulated roof\n",
    "large_tank.U_roof = 0\n",
    "\n",
    "# Define evaporation time as twice as the transient period\n",
    "evap_time = 3600 *tau_h * 2\n",
    "\n",
    "# Time step to record data, relevant for plotting integrated quantities\n",
    "# such as the vapour to liquid heat transfer rate, Q_VL\n",
    "large_tank.time_interval = 60\n",
    "\n",
    "# Time step to plot each vapour temperature profile\n",
    "large_tank.plot_interval = evap_time/6\n",
    "\n",
    "# Simulate the evaporation\n",
    "large_tank.evaporate(evap_time)"
   ]
  },
  {
   "cell_type": "markdown",
   "metadata": {},
   "source": [
    "#### Vapour temperature"
   ]
  },
  {
   "cell_type": "code",
   "execution_count": null,
   "metadata": {},
   "outputs": [],
   "source": [
    "# Visualise the plot\n",
    "large_tank.plot_tv()"
   ]
  },
  {
   "cell_type": "markdown",
   "metadata": {},
   "source": [
    "Plot vapour temperature profile"
   ]
  },
  {
   "cell_type": "code",
   "execution_count": null,
   "metadata": {},
   "outputs": [],
   "source": [
    "large_tank.plot_BOG()"
   ]
  },
  {
   "cell_type": "code",
   "execution_count": null,
   "metadata": {},
   "outputs": [],
   "source": [
    "large_tank.plot_Q()"
   ]
  },
  {
   "cell_type": "code",
   "execution_count": null,
   "metadata": {},
   "outputs": [],
   "source": [
    "# Calculate evaporated mass\n",
    "BOG = np.trapz(large_tank.data['BOG'], large_tank.data['Time'])\n",
    "# BOG = (large_tank.data['V_L'][0] -large_tank.data['V_L'][-1]) * nitrogen.rho_L\n",
    "print(\"BOG = %.3f kg\" % BOG)"
   ]
  },
  {
   "cell_type": "code",
   "execution_count": null,
   "metadata": {},
   "outputs": [],
   "source": [
    "# Extract evaporation rate and convert to kg/h\n",
    "B_L = large_tank.evap_rate() * 3600\n",
    "\n",
    "# Visualise evaporation rate\n",
    "plt.plot(large_tank.sol.t, B_L) \n",
    "plt.grid()\n",
    "plt.title(\"Liquid nitrogen evaporation in a 165,000 m$^3$ tank\")\n",
    "plt.xlabel('Time / s')\n",
    "plt.ylabel('$ B_L / kg/h$')"
   ]
  },
  {
   "cell_type": "code",
   "execution_count": null,
   "metadata": {},
   "outputs": [],
   "source": [
    "large_tank.V"
   ]
  }
 ],
 "metadata": {
  "@webio": {
   "lastCommId": null,
   "lastKernelId": null
  },
  "kernelspec": {
   "display_name": "Python 3 (ipykernel)",
   "language": "python",
   "name": "python3"
  },
  "language_info": {
   "codemirror_mode": {
    "name": "ipython",
    "version": 3
   },
   "file_extension": ".py",
   "mimetype": "text/x-python",
   "name": "python",
   "nbconvert_exporter": "python",
   "pygments_lexer": "ipython3",
   "version": "3.10.4"
  }
 },
 "nbformat": 4,
 "nbformat_minor": 2
}
