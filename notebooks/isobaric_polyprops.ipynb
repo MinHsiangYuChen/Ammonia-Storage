{
 "cells": [
  {
   "cell_type": "markdown",
   "metadata": {},
   "source": [
    "* This notebook sets up the isobaric evaporation of liquid hydrogen. \n",
    "\n",
    "* Coolprop will be called to retrieve the cryogen thermophysical properties. Hence, the cryogen will be specificied in the notebook\n",
    "\n",
    "## Input and output\n",
    "* Tank characteristics: .CSV file with tank geometrical properties\n",
    "* Cryogen: .CSV file with the cryogen ID consistent with coolprop\n",
    "* Popular cryogens: hydrogen, methane, nitrogen, oxygen.\n"
   ]
  },
  {
   "cell_type": "code",
   "execution_count": null,
   "metadata": {},
   "outputs": [],
   "source": [
    "import sys\n",
    "import numpy as np\n",
    "import matplotlib.pyplot as plt\n",
    "import copy\n",
    "import CoolProp.CoolProp as CP"
   ]
  },
  {
   "cell_type": "code",
   "execution_count": null,
   "metadata": {},
   "outputs": [],
   "source": [
    "# Vapour density at ambient temperature\n",
    "rho_V = CP.PropsSI('D','T', 298.15, 'P', 101325, \"hydrogen\") # Vapour mass density\n",
    "\n",
    "# Liquid density at 1 atm\n",
    "rho_L = CP.PropsSI('D','Q', 0, 'P', 101325, \"hydrogen\") # Vapour mass density\n",
    "\n",
    "print(rho_V)\n",
    "print(\"rho_L = %.3f\" % rho_L)\n",
    "print(\"rho_L/rho_V = %.3f\" % (rho_L/rho_V))"
   ]
  },
  {
   "cell_type": "markdown",
   "metadata": {},
   "source": [
    "### Nitrogen, 1 atm, 70 K"
   ]
  },
  {
   "cell_type": "code",
   "execution_count": null,
   "metadata": {},
   "outputs": [],
   "source": [
    "# Vapour density at ambient temperature\n",
    "\n",
    "# Liquid density at 1 atm\n",
    "rho_L = CP.PropsSI('D','T', 70, 'P', 101325, \"nitrogen\") # Vapour mass density\n",
    "\n",
    "# Specific heat\n",
    "cp_L = CP.PropsSI('C','T', 70, 'P', 101325, \"nitrogen\") # Vapour mass density\n",
    "\n",
    "\n",
    "# Thermal conductivity\n",
    "k_L = CP.PropsSI('L','T', 70, 'P', 101325, \"nitrogen\") # Vapour mass density\n",
    "\n",
    "# Viscosity\n",
    "mu_L = CP.PropsSI('V','T', 70, 'P', 101325, \"nitrogen\") # Vapour mass density\n",
    "\n",
    "print(\"rho_L = %.3f\" % rho_L)\n",
    "print(\"c_p = %.3f\" % cp_L)\n",
    "print(\"k_L = %.3f\" % k_L)\n",
    "print(\"mu_L = %.3e\" % mu_L)\n",
    "\n",
    "\n",
    "alpha_L = k_L/(rho_L * cp_L)\n",
    "Pr = (mu_L/rho_L)/alpha_L\n",
    "\n",
    "\n",
    "print(\"alpha_L = %.3e\" % alpha_L)\n",
    "print(\"Pr = %.3f\" % Pr)\n",
    "\n",
    "# Flow rate calculation\n",
    "v = 0.1 #m/s\n",
    "R = 0.0254 # m\n",
    "np.pi*R**2*v*rho_L"
   ]
  }
 ],
 "metadata": {
  "kernelspec": {
   "display_name": "cryoenv",
   "language": "python",
   "name": "python3"
  },
  "language_info": {
   "codemirror_mode": {
    "name": "ipython",
    "version": 3
   },
   "file_extension": ".py",
   "mimetype": "text/x-python",
   "name": "python",
   "nbconvert_exporter": "python",
   "pygments_lexer": "ipython3",
   "version": "3.10.4"
  }
 },
 "nbformat": 4,
 "nbformat_minor": 2
}
