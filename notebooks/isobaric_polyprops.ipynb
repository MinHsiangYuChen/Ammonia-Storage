{
 "cells": [
  {
   "cell_type": "markdown",
   "metadata": {},
   "source": [
    "* This notebook sets up the isobaric evaporation of liquid hydrogen. \n",
    "\n",
    "* Coolprop will be called to retrieve the cryogen thermophysical properties. Hence, the cryogen will be specificied in the notebook\n",
    "\n",
    "## Input and output\n",
    "* Tank characteristics: .CSV file with tank geometrical properties\n",
    "* Cryogen: .CSV file with the cryogen ID consistent with coolprop\n",
    "* Popular cryogens: hydrogen, methane, nitrogen, oxygen.\n"
   ]
  },
  {
   "cell_type": "code",
   "execution_count": 1,
   "metadata": {},
   "outputs": [],
   "source": [
    "import sys\n",
    "\n",
    "sys.path.append(\"..\") # Adds higher directory to python modules path.\n",
    "\n",
    "import numpy as np\n",
    "import matplotlib.pyplot as plt\n",
    "import copy\n",
    "\n",
    "# from storage_tanks.tank import Tank\n",
    "from cryogens import Cryogen\n",
    "from storage_tanks import Tank\n",
    "\n",
    "import CoolProp.CoolProp as CP"
   ]
  },
  {
   "cell_type": "code",
   "execution_count": 2,
   "metadata": {},
   "outputs": [
    {
     "name": "stdout",
     "output_type": "stream",
     "text": [
      "0.0823481221374309\n",
      "rho_L = 70.848\n",
      "rho_L/rho_V = 860.352\n"
     ]
    }
   ],
   "source": [
    "# Vapour density at ambient temperature\n",
    "rho_V = CP.PropsSI('D','T', 298.15, 'P', 101325, \"hydrogen\") # Vapour mass density\n",
    "\n",
    "# Liquid density at 1 atm\n",
    "rho_L = CP.PropsSI('D','Q', 0, 'P', 101325, \"hydrogen\") # Vapour mass density\n",
    "\n",
    "print(rho_V)\n",
    "print(\"rho_L = %.3f\" % rho_L)\n",
    "print(\"rho_L/rho_V = %.3f\" % (rho_L/rho_V))"
   ]
  },
  {
   "cell_type": "code",
   "execution_count": 10,
   "metadata": {},
   "outputs": [
    {
     "data": {
      "text/plain": [
       "0.18580952258946792"
      ]
     },
     "execution_count": 10,
     "metadata": {},
     "output_type": "execute_result"
    }
   ],
   "source": [
    "CP.PropsSI('L','T', 298.15, 'P', 101325, \"hydrogen\") # Vapour THERMAL CONDUCTIVITY"
   ]
  }
 ],
 "metadata": {
  "kernelspec": {
   "display_name": "cryoenv",
   "language": "python",
   "name": "python3"
  },
  "language_info": {
   "codemirror_mode": {
    "name": "ipython",
    "version": 3
   },
   "file_extension": ".py",
   "mimetype": "text/x-python",
   "name": "python",
   "nbconvert_exporter": "python",
   "pygments_lexer": "ipython3",
   "version": "3.10.4"
  }
 },
 "nbformat": 4,
 "nbformat_minor": 2
}
