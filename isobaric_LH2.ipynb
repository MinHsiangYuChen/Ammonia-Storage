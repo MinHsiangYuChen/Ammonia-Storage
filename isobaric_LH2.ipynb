{
 "cells": [
  {
   "cell_type": "markdown",
   "metadata": {},
   "source": [
    "* This notebook sets up the isobaric evaporation of liquid hydrogen. \n",
    "\n",
    "* Coolprop will be called to retrieve the cryogen thermophysical properties. Hence, the cryogen will be specificied in the notebook\n",
    "\n",
    "## Input and output\n",
    "* Tank characteristics: .CSV file with tank geometrical properties\n",
    "* Cryogen: .CSV file with the cryogen ID consistent with coolprop\n",
    "* Popular cryogens: hydrogen, methane, nitrogen, oxygen.\n"
   ]
  },
  {
   "cell_type": "code",
   "execution_count": 2,
   "metadata": {},
   "outputs": [],
   "source": [
    "import sys\n",
    "\n",
    "sys.path.append(\"..\") # Adds higher directory to python modules path.\n",
    "\n",
    "import numpy as np\n",
    "import matplotlib.pyplot as plt\n",
    "import copy\n",
    "\n",
    "# Import the storage tank Class\n",
    "from storage_tanks import Tank\n",
    "\n",
    "# Import Cryogen class\n",
    "from cryogens import Cryogen"
   ]
  },
  {
   "cell_type": "markdown",
   "metadata": {},
   "source": [
    "#### Use example\n",
    "\n",
    "Analyse BOG rates of liquid hydrogen in a retrofitted LNG storage tank,and compare it to methane BOG rates"
   ]
  },
  {
   "cell_type": "code",
   "execution_count": 11,
   "metadata": {},
   "outputs": [
    {
     "name": "stdout",
     "output_type": "stream",
     "text": [
      "The evaporation rate of hydrogen in the tank is 712.2 kg/h\n",
      "Equivalent to  197.8 g/s\n"
     ]
    }
   ],
   "source": [
    "# Retrofitted LNG tank properties\n",
    "Q_roof = 0 # W\n",
    "d_i = 76.4 # m\n",
    "d_o = 80   # m\n",
    "LF = 0.97 \n",
    "T_air = 293.15 # K\n",
    "\n",
    "# Set overall heat transfer coefficient through the walls for liquid and vapour\n",
    "U_L = 0.0371 # W/m^2K\n",
    "U_V = 0.0371 # W/m^2K\n",
    "\n",
    "# Specify heat transfer rate at the bottom to prevent ground heating\n",
    "Q_b = 60000 # W, \n",
    "V_tank = 165000 #m^3\n",
    "\n",
    "# Initial liquid filling\n",
    "LF = 0.97 \n",
    "\n",
    "# Specify tank operating pressure\n",
    "P = 100000\n",
    "\n",
    "# Initialise hydrogen using CoolProp dependency\n",
    "hydrogen = Cryogen(name=\"hydrogen\")\n",
    "hydrogen.set_coolprops(hydrogen.name, P)\n",
    "\n",
    "# Initialize tank\n",
    "large_tank = Tank(d_i, d_o, V_tank, LF)\n",
    "large_tank.set_HeatTransProps(U_V, U_V, T_air, Q_roof,Q_b )\n",
    "# large_tank.set_LF(LF)\n",
    "large_tank.cryogen = hydrogen\n",
    "\n",
    "# Evaporation rate\n",
    "print(\"The evaporation rate of \" + hydrogen.name + \" in the tank is %.1f kg/h\" % (large_tank.b_l_dot * 3600))\n",
    "print(\"Equivalent to  %.1f g/s\" % (large_tank.b_l_dot * 1000))"
   ]
  },
  {
   "cell_type": "code",
   "execution_count": 14,
   "metadata": {},
   "outputs": [
    {
     "name": "stdout",
     "output_type": "stream",
     "text": [
      "The evaporation rate of methane is 416.5 kg/h\n"
     ]
    }
   ],
   "source": [
    "methane = Cryogen(name = \"methane\")\n",
    "methane.set_coolprops(\"methane\", P)\n",
    "large_tank.cryogen = methane\n",
    "print(\"The evaporation rate of \" + methane.name + \" is %.1f kg/h\" % (large_tank.b_l_dot * 3600))"
   ]
  }
 ],
 "metadata": {
  "kernelspec": {
   "display_name": "cryoenv",
   "language": "python",
   "name": "python3"
  },
  "language_info": {
   "codemirror_mode": {
    "name": "ipython",
    "version": 3
   },
   "file_extension": ".py",
   "mimetype": "text/x-python",
   "name": "python",
   "nbconvert_exporter": "python",
   "pygments_lexer": "ipython3",
   "version": "3.9.13"
  }
 },
 "nbformat": 4,
 "nbformat_minor": 2
}
