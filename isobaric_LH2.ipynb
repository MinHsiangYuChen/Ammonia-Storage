{
 "cells": [
  {
   "cell_type": "markdown",
   "metadata": {},
   "source": [
    "#### Isobaric_LH2\n",
    "\n",
    "* This notebook sets up the isobaric evaporation of liquid hydrogen in a retrofitted LNG storage tank\n",
    "* Coolprop will be called to retrieve the cryogen thermophysical properties. Hence, the cryogen will be specificied in the notebook\n",
    "\n",
    "## Desired input and output\n",
    "* Tank characteristics: .CSV file with tank geometrical properties\n",
    "* Cryogen: .CSV file with the cryogen ID consistent with coolprop\n",
    "* Popular cryogens: hydrogen, methane, nitrogen, oxygen.\n"
   ]
  },
  {
   "cell_type": "code",
   "execution_count": 3,
   "metadata": {},
   "outputs": [],
   "source": [
    "# Ensure that python finds the submodules\n",
    "import sys\n",
    "sys.path.append(\"..\") # Adds higher directory to python modules path.\n",
    "\n",
    "# Scientific computing\n",
    "import numpy as np\n",
    "\n",
    "# Visualisation\n",
    "import matplotlib.pyplot as plt\n",
    "\n",
    "## Module imports\n",
    "# Import the storage tank Class\n",
    "from storage_tanks import Tank\n",
    "\n",
    "# Import Cryogen class\n",
    "from cryogens import Cryogen"
   ]
  },
  {
   "cell_type": "markdown",
   "metadata": {},
   "source": [
    "#### Use example\n",
    "\n",
    "Analyse BOG rates of liquid hydrogen in a retrofitted LNG storage tank,and compare it to methane BOG rates"
   ]
  },
  {
   "cell_type": "code",
   "execution_count": 4,
   "metadata": {},
   "outputs": [],
   "source": [
    "# Retrofitted LNG tank properties\n",
    "Q_roof = 0 # Roof heat ingress / W\n",
    "d_i = 76.4 # Internal diameter / m\n",
    "d_o = 80   # External diameter / m\n",
    "T_air = 293.15 # Temperature of the environment K\n",
    "\n",
    "# Set overall heat transfer coefficient through the walls for liquid and vapour\n",
    "U_L = 0.0371 # W/m2/K\n",
    "U_V = 0.0371 # W/m2/K\n",
    "\n",
    "# Specify heat transfer rate at the bottom to prevent ground heating\n",
    "Q_b = 60000 # W, \n",
    "\n",
    "# Vertically orientated cylindrical tank volume\n",
    "V_tank = 165000 #m^3\n",
    "\n",
    "# Initial liquid filling / Dimensionless\n",
    "LF = 0.97 \n",
    "\n",
    "# Specify tank operating pressure\n",
    "P = 100000 # Pa\n",
    "\n",
    "# Initialize tank\n",
    "large_tank = Tank(d_i, d_o, V_tank, LF)\n",
    "large_tank.set_HeatTransProps(U_L, U_V, T_air, Q_roof, Q_b)"
   ]
  },
  {
   "cell_type": "code",
   "execution_count": 5,
   "metadata": {},
   "outputs": [
    {
     "name": "stdout",
     "output_type": "stream",
     "text": [
      "The evaporation rate of methane is 416.5 kg/h\n",
      "The evaporation rate of hydrogen in the tank is 712.2 kg/h\n",
      "Equivalent to  197.8 g/s\n"
     ]
    }
   ],
   "source": [
    "methane = Cryogen(name = \"methane\")\n",
    "methane.set_coolprops(\"methane\", P)\n",
    "large_tank.cryogen = methane\n",
    "print(\"The evaporation rate of \" + methane.name + \" is %.1f kg/h\" % (large_tank.b_l_dot * 3600))\n",
    "\n",
    "# Initialise hydrogen using CoolProp dependency\n",
    "hydrogen = Cryogen(name=\"hydrogen\")\n",
    "# Initialise thermodynamic properties at the tank operating pressure\n",
    "hydrogen.set_coolprops(hydrogen.name, P)\n",
    "large_tank.cryogen = hydrogen\n",
    "\n",
    "# Evaporation rate\n",
    "print(\"The evaporation rate of \" + hydrogen.name + \" in the tank is %.1f kg/h\" % (large_tank.b_l_dot * 3600))\n",
    "print(\"Equivalent to  %.1f g/s\" % (large_tank.b_l_dot * 1000))"
   ]
  },
  {
   "cell_type": "markdown",
   "metadata": {},
   "source": [
    "Liquid nitrogen properties for Linde tank calculations"
   ]
  },
  {
   "cell_type": "code",
   "execution_count": 25,
   "metadata": {},
   "outputs": [
    {
     "name": "stdout",
     "output_type": "stream",
     "text": [
      "m_evap 116.996\n",
      "Q_in = 23319563.429 J\n",
      "Q_L_in = 269.902 W\n",
      "A_L = 161.611 m^2, A_T = 7.069 m^2\n",
      "U = 7.243e-03 W m^-2 K^-1 \n"
     ]
    }
   ],
   "source": [
    "# Initialise hydrogen using CoolProp dependency\n",
    "nitrogen = Cryogen(name=\"nitrogen\")\n",
    "\n",
    "# Initialise thermodynamic properties at the tank operating pressure\n",
    "nitrogen.set_coolprops(nitrogen.name, P)\n",
    "\n",
    "\n",
    "BOR = 0.19e-2\n",
    "m_evap = 80.36 * 0.95 * nitrogen.rho_L * BOR\n",
    "print(\"m_evap %.3f\" % m_evap)\n",
    "dH_LV = nitrogen.h_V - nitrogen.h_L\n",
    "Q_in = (m_evap * dH_LV)\n",
    "print(\"Q_in = %.3f J\" % Q_in)\n",
    "\n",
    "# Total heat transfer rate to the liquid\n",
    "Q_L_in = (Q_in / (3600*24))\n",
    "\n",
    "print(\"Q_L_in = %.3f W\" % Q_L_in)\n",
    "\n",
    "# \n",
    "d_o = 3\n",
    "\n",
    "# Side area\n",
    "A_L = (np.pi * d_o) * (18.05 * 0.95) \n",
    "\n",
    "# Bottom area\n",
    "A_t = np.pi * d_o**2/4 \n",
    "\n",
    "# Environment temperature # 25°C\n",
    "\n",
    "T_air = 298.15\n",
    "print(\"A_L = %.3f m^2, A_T = %.3f m^2\" %(A_L, A_t))\n",
    "\n",
    "U = Q_L_in/((A_L +A_t) * (T_air - nitrogen.T_sat) )\n",
    "print(\"U = %.3e W m^-2 K^-1 \" % U)"
   ]
  },
  {
   "cell_type": "code",
   "execution_count": 20,
   "metadata": {},
   "outputs": [
    {
     "data": {
      "text/plain": [
       "161.61138008229295"
      ]
     },
     "execution_count": 20,
     "metadata": {},
     "output_type": "execute_result"
    }
   ],
   "source": [
    "A_L"
   ]
  },
  {
   "cell_type": "markdown",
   "metadata": {},
   "source": [
    "#### Simulate liquid hydrogen evaporation "
   ]
  },
  {
   "cell_type": "code",
   "execution_count": 7,
   "metadata": {},
   "outputs": [
    {
     "data": {
      "text/plain": [
       "53.856516758832946"
      ]
     },
     "execution_count": 7,
     "metadata": {},
     "output_type": "execute_result"
    }
   ],
   "source": [
    "hydrogen.rho_L / hydrogen.rho_V"
   ]
  },
  {
   "cell_type": "code",
   "execution_count": null,
   "metadata": {},
   "outputs": [],
   "source": []
  },
  {
   "cell_type": "code",
   "execution_count": 8,
   "metadata": {},
   "outputs": [],
   "source": [
    "large_tank.evaporate(3600*24*7*52)"
   ]
  },
  {
   "cell_type": "code",
   "execution_count": 9,
   "metadata": {},
   "outputs": [
    {
     "data": {
      "text/plain": [
       "Text(0, 0.5, '$ V_L / m^3$')"
      ]
     },
     "execution_count": 9,
     "metadata": {},
     "output_type": "execute_result"
    },
    {
     "data": {
      "image/png": "[encoded data removed]",
      "text/plain": [
       "<Figure size 432x288 with 1 Axes>"
      ]
     },
     "metadata": {
      "needs_background": "light"
     },
     "output_type": "display_data"
    }
   ],
   "source": [
    "# Access to the liquid volume\n",
    "plt.plot(large_tank.sol.t, large_tank.sol.y[0])\n",
    "plt.grid()\n",
    "plt.xlabel('Time / s')\n",
    "plt.ylabel('$ V_L / m^3$')"
   ]
  },
  {
   "cell_type": "code",
   "execution_count": 10,
   "metadata": {},
   "outputs": [
    {
     "data": {
      "text/plain": [
       "Text(0, 0.5, '$ B_L / kg/h$')"
      ]
     },
     "execution_count": 10,
     "metadata": {},
     "output_type": "execute_result"
    },
    {
     "data": {
      "image/png": "[encoded data removed]",
      "text/plain": [
       "<Figure size 432x288 with 1 Axes>"
      ]
     },
     "metadata": {
      "needs_background": "light"
     },
     "output_type": "display_data"
    }
   ],
   "source": [
    "# Extract evaporation rate and convert to kg/h\n",
    "B_L = large_tank.evap_rate() * 3600\n",
    "\n",
    "# Visualise evaporation rate\n",
    "plt.plot(large_tank.sol.t, B_L) \n",
    "plt.grid()\n",
    "plt.title(\"Liquid hydrogen evaporation in a 165,000 m$^3$ tank\")\n",
    "plt.xlabel('Time / s')\n",
    "plt.ylabel('$ B_L / kg/h$')"
   ]
  },
  {
   "cell_type": "code",
   "execution_count": null,
   "metadata": {},
   "outputs": [],
   "source": []
  }
 ],
 "metadata": {
  "kernelspec": {
   "display_name": "cryoenv",
   "language": "python",
   "name": "python3"
  },
  "language_info": {
   "codemirror_mode": {
    "name": "ipython",
    "version": 3
   },
   "file_extension": ".py",
   "mimetype": "text/x-python",
   "name": "python",
   "nbconvert_exporter": "python",
   "pygments_lexer": "ipython3",
   "version": "3.10.4"
  }
 },
 "nbformat": 4,
 "nbformat_minor": 2
}
